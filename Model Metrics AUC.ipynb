{
 "cells": [
  {
   "cell_type": "code",
   "execution_count": 2,
   "metadata": {},
   "outputs": [],
   "source": [
    "import pandas as pd\n",
    "import numpy as np\n",
    "import matplotlib.pyplot as plt\n",
    "import seaborn as sns\n",
    "from sklearn.datasets import make_classification\n",
    "from sklearn.model_selection import train_test_split\n",
    "from sklearn.metrics import precision_recall_curve, average_precision_score, roc_auc_score, auc, roc_curve\n",
    "from sklearn.linear_model import LogisticRegression"
   ]
  },
  {
   "cell_type": "markdown",
   "metadata": {},
   "source": [
    "### Case 1: Balanced Dataset"
   ]
  },
  {
   "cell_type": "code",
   "execution_count": 24,
   "metadata": {},
   "outputs": [],
   "source": [
    "X, y = make_classification(n_samples=10000, \n",
    "                           n_features=4, \n",
    "                           n_redundant=0, \n",
    "                           random_state=42, \n",
    "                           weights=[0.5])\n",
    "# To DataFrame\n",
    "columns = [f'feat_{i+1}' for i in range(X.shape[1])]\n",
    "X = pd.DataFrame(X, columns=columns)\n",
    "y = pd.DataFrame(y, columns=['label'])\n",
    "\n",
    "df = X.merge(y,left_index=True, right_index=True)"
   ]
  },
  {
   "cell_type": "code",
   "execution_count": 25,
   "metadata": {},
   "outputs": [
    {
     "data": {
      "text/html": [
       "<div>\n",
       "<style scoped>\n",
       "    .dataframe tbody tr th:only-of-type {\n",
       "        vertical-align: middle;\n",
       "    }\n",
       "\n",
       "    .dataframe tbody tr th {\n",
       "        vertical-align: top;\n",
       "    }\n",
       "\n",
       "    .dataframe thead th {\n",
       "        text-align: right;\n",
       "    }\n",
       "</style>\n",
       "<table border=\"1\" class=\"dataframe\">\n",
       "  <thead>\n",
       "    <tr style=\"text-align: right;\">\n",
       "      <th></th>\n",
       "      <th>feat_1</th>\n",
       "      <th>feat_2</th>\n",
       "      <th>feat_3</th>\n",
       "      <th>feat_4</th>\n",
       "      <th>label</th>\n",
       "    </tr>\n",
       "  </thead>\n",
       "  <tbody>\n",
       "    <tr>\n",
       "      <th>8207</th>\n",
       "      <td>0.943167</td>\n",
       "      <td>-0.853618</td>\n",
       "      <td>0.388636</td>\n",
       "      <td>-0.5934</td>\n",
       "      <td>0</td>\n",
       "    </tr>\n",
       "  </tbody>\n",
       "</table>\n",
       "</div>"
      ],
      "text/plain": [
       "        feat_1    feat_2    feat_3  feat_4  label\n",
       "8207  0.943167 -0.853618  0.388636 -0.5934      0"
      ]
     },
     "execution_count": 25,
     "metadata": {},
     "output_type": "execute_result"
    }
   ],
   "source": [
    "df.sample()"
   ]
  },
  {
   "cell_type": "code",
   "execution_count": 26,
   "metadata": {},
   "outputs": [],
   "source": [
    "train_df, test_df = train_test_split(df, test_size=0.1, shuffle=False)\n",
    "X_train, y_train = train_df[X.columns], train_df[y.columns[0]]\n",
    "X_test, y_test = test_df[X.columns], test_df[y.columns[0]]"
   ]
  },
  {
   "cell_type": "code",
   "execution_count": 27,
   "metadata": {},
   "outputs": [
    {
     "data": {
      "text/plain": [
       "LogisticRegression()"
      ]
     },
     "execution_count": 27,
     "metadata": {},
     "output_type": "execute_result"
    }
   ],
   "source": [
    "clf = LogisticRegression()\n",
    "clf.fit(X_train, y_train)"
   ]
  },
  {
   "cell_type": "code",
   "execution_count": 28,
   "metadata": {},
   "outputs": [],
   "source": [
    "def evaluation(clf, X, y):\n",
    "    y_predict_proba = clf.predict_proba(X)[:, 1]\n",
    "    \n",
    "    precision, recall, pr_thresholds = precision_recall_curve(y, y_predict_proba)\n",
    "    fpr, tpr, roc_thresholds = roc_curve(y, y_predict_proba)\n",
    "    \n",
    "    return{\n",
    "        'ROC AUC': auc(fpr, tpr), # Alternatively: roc_auc_score(y, y_predict_proba)\n",
    "        'PR AUC': auc(recall, precision), # Alternatively (with slight difference): average_precision_score(y, y_predict_proba)\n",
    "        \"precision\": precision,\n",
    "        \"recall\": recall,\n",
    "        \"pr_thresholds\": pr_thresholds,\n",
    "        \"tpr\": tpr,\n",
    "        \"fpr\": fpr,\n",
    "        \"roc_thresholds\": roc_thresholds\n",
    "    }"
   ]
  },
  {
   "cell_type": "code",
   "execution_count": 29,
   "metadata": {},
   "outputs": [
    {
     "name": "stdout",
     "output_type": "stream",
     "text": [
      "ROC AUC: 0.9488691535252812, PR AUC: 0.9410024055042296\n"
     ]
    }
   ],
   "source": [
    "evals_train_balanced = evaluation(clf, X_train, y_train)\n",
    "print(f\"ROC AUC: {evals_train_balanced['ROC AUC']}, PR AUC: {evals_train_balanced['PR AUC']}\")"
   ]
  },
  {
   "cell_type": "code",
   "execution_count": 30,
   "metadata": {},
   "outputs": [
    {
     "name": "stdout",
     "output_type": "stream",
     "text": [
      "ROC AUC: 0.953169335834175, PR AUC: 0.9377326624603982\n"
     ]
    }
   ],
   "source": [
    "evals_test_balanced = evaluation(clf, X_test, y_test)\n",
    "print(f\"ROC AUC: {evals_test_balanced['ROC AUC']}, PR AUC: {evals_test_balanced['PR AUC']}\")"
   ]
  },
  {
   "cell_type": "markdown",
   "metadata": {},
   "source": [
    "### Case 2: Unbalanced Dataset"
   ]
  },
  {
   "cell_type": "code",
   "execution_count": 31,
   "metadata": {},
   "outputs": [],
   "source": [
    "X, y = make_classification(n_samples=10000, \n",
    "                           n_features=4, \n",
    "                           n_redundant=0, \n",
    "                           random_state=42, \n",
    "                           weights=[0.9])\n",
    "# To DataFrame\n",
    "columns = [f'feat_{i+1}' for i in range(X.shape[1])]\n",
    "X = pd.DataFrame(X, columns=columns)\n",
    "y = pd.DataFrame(y, columns=['label'])\n",
    "\n",
    "df = X.merge(y,left_index=True, right_index=True)"
   ]
  },
  {
   "cell_type": "code",
   "execution_count": 32,
   "metadata": {},
   "outputs": [],
   "source": [
    "train_df, test_df = train_test_split(df, test_size=0.1, shuffle=False)\n",
    "X_train, y_train = train_df[X.columns], train_df[y.columns[0]]\n",
    "X_test, y_test = test_df[X.columns], test_df[y.columns[0]]"
   ]
  },
  {
   "cell_type": "code",
   "execution_count": 33,
   "metadata": {},
   "outputs": [
    {
     "data": {
      "text/plain": [
       "LogisticRegression(class_weight='balanced')"
      ]
     },
     "execution_count": 33,
     "metadata": {},
     "output_type": "execute_result"
    }
   ],
   "source": [
    "clf = LogisticRegression(class_weight='balanced')\n",
    "clf.fit(X_train, y_train)"
   ]
  },
  {
   "cell_type": "code",
   "execution_count": 34,
   "metadata": {},
   "outputs": [
    {
     "name": "stdout",
     "output_type": "stream",
     "text": [
      "ROC AUC: 0.9325527987637363, PR AUC: 0.7045278360634368\n"
     ]
    }
   ],
   "source": [
    "eval_train_imbalanced = evaluation(clf, X_train, y_train)\n",
    "print(f\"ROC AUC: {eval_train_imbalanced['ROC AUC']}, PR AUC: {eval_train_imbalanced['PR AUC']}\")"
   ]
  },
  {
   "cell_type": "code",
   "execution_count": 35,
   "metadata": {},
   "outputs": [
    {
     "name": "stdout",
     "output_type": "stream",
     "text": [
      "ROC AUC: 0.9613000145741545, PR AUC: 0.7173812596081262\n"
     ]
    }
   ],
   "source": [
    "eval_test_imbalanced = evaluation(clf, X_test, y_test)\n",
    "print(f\"ROC AUC: {eval_test_imbalanced['ROC AUC']}, PR AUC: {eval_test_imbalanced['PR AUC']}\")"
   ]
  },
  {
   "cell_type": "markdown",
   "metadata": {},
   "source": [
    "PR VS ROC: PR is better for class imbalances, particularly if we want to treat positive classes with greater weight"
   ]
  },
  {
   "cell_type": "markdown",
   "metadata": {},
   "source": [
    "# Plot"
   ]
  },
  {
   "cell_type": "code",
   "execution_count": 48,
   "metadata": {},
   "outputs": [],
   "source": [
    "def plot_precision_recall(ax, title, precision, recall, threshold, auc):\n",
    "    ax.set_title(title)\n",
    "    ax.set_xlabel(\"recall\")\n",
    "    ax.set_ylabel(\"precision\")\n",
    "    curve = ax.plot(recall, precision, label = f\"AUC: {auc:.3f}\")\n",
    "    ax.legend()\n",
    "    \n",
    "def plot_roc(ax, title, tpr, fpr, threshold, auc):\n",
    "    ax.set_title(title)\n",
    "    ax.set_xlabel(\"false positive rate\")\n",
    "    ax.set_ylabel(\"true positive rate\")\n",
    "    curve = ax.plot(fpr, tpr, label = f\"AUC: {auc:.3f}\")\n",
    "    ax.legend()"
   ]
  },
  {
   "cell_type": "code",
   "execution_count": 60,
   "metadata": {},
   "outputs": [
    {
     "data": {
      "image/png": "[encoded data removed]",
      "text/plain": [
       "<Figure size 1152x720 with 4 Axes>"
      ]
     },
     "metadata": {},
     "output_type": "display_data"
    }
   ],
   "source": [
    "sns.set_style(\"dark\")\n",
    "plt.rcParams['figure.figsize'] = [16, 10]\n",
    "\n",
    "fig, axs = plt.subplots(2,2)\n",
    "fig.tight_layout(pad=5.0)\n",
    "\n",
    "plot_roc(axs[0,0], \"ROC - Balanced data\", evals_test_balanced[\"tpr\"],\n",
    "                     evals_test_balanced[\"fpr\"], evals_test_balanced[\"roc_thresholds\"], evals_test_balanced[\"ROC AUC\"])\n",
    "plot_roc(axs[0,1], \"ROC - Imbalanced data\", eval_test_imbalanced[\"tpr\"],\n",
    "                     eval_test_imbalanced[\"fpr\"], eval_test_imbalanced[\"roc_thresholds\"], eval_test_imbalanced[\"ROC AUC\"])\n",
    "plot_precision_recall(axs[1,0], \"Precision Recall Curve - Balanced data\", evals_test_balanced[\"precision\"],\n",
    "                     evals_test_balanced[\"recall\"], evals_test_balanced[\"pr_thresholds\"], evals_test_balanced[\"PR AUC\"])\n",
    "plot_precision_recall(axs[1,1], \"Precision Recall Curve - Imbalanced data\", eval_test_imbalanced[\"precision\"],\n",
    "                     eval_test_imbalanced[\"recall\"], eval_test_imbalanced[\"pr_thresholds\"], eval_test_imbalanced[\"PR AUC\"])"
   ]
  },
  {
   "cell_type": "code",
   "execution_count": null,
   "metadata": {},
   "outputs": [],
   "source": []
  }
 ],
 "metadata": {
  "kernelspec": {
   "display_name": "Python 3 (ipykernel)",
   "language": "python",
   "name": "python3"
  },
  "language_info": {
   "codemirror_mode": {
    "name": "ipython",
    "version": 3
   },
   "file_extension": ".py",
   "mimetype": "text/x-python",
   "name": "python",
   "nbconvert_exporter": "python",
   "pygments_lexer": "ipython3",
   "version": "3.8.10"
  }
 },
 "nbformat": 4,
 "nbformat_minor": 4
}
